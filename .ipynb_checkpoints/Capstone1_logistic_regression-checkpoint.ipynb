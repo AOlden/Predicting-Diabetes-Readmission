{
 "cells": [
  {
   "cell_type": "markdown",
   "metadata": {},
   "source": [
    "# Logistic Regression\n",
    "\n",
    "## Overview\n",
    "\n",
    "A logistic regression can be used when the outcome we are interested in is a categorical one. In this case, we are interested in whether or not a patient was readmitted within 30 days -- an outcome with two categories (yes or no). \n",
    "\n",
    "## Running the Logistic Regression and Checking Results\n",
    "\n",
    "There a few things to note as this process happens. First, we'll read in the preprocessed data that has categorical features converted to separate, binary columns. Next, we'll split the data into a training and a test set. The training data is used to build the logistic model; it is the data that the model \"learns\" on. Once the model is constructed from the training data, we'll run it on the test data to make sure it generalizes -- or works on other data sets -- well. The test data was set aside before building the model precisely for this purpose. "
   ]
  },
  {
   "cell_type": "code",
   "execution_count": 20,
   "metadata": {
    "collapsed": false
   },
   "outputs": [],
   "source": [
    "from sklearn.model_selection import train_test_split\n",
    "from sklearn.model_selection import GridSearchCV\n",
    "from sklearn.linear_model import LogisticRegression\n",
    "from sklearn.metrics import *\n",
    "\n",
    "import pandas as pd \n",
    "import seaborn as sns\n",
    "import matplotlib.pyplot as plt\n",
    "import numpy as np\n",
    "%matplotlib inline"
   ]
  },
  {
   "cell_type": "code",
   "execution_count": 21,
   "metadata": {
    "collapsed": true
   },
   "outputs": [],
   "source": [
    "# read in data\n",
    "readmit = pd.read_csv('diabetes_readmission_onehot.csv') "
   ]
  },
  {
   "cell_type": "code",
   "execution_count": 5,
   "metadata": {
    "collapsed": false
   },
   "outputs": [],
   "source": [
    "# capture independent variables in list\n",
    "features = list(readmit) \n",
    "features = [e for e in features if e not in ('Unnamed: 0', 'readmit30')]"
   ]
  },
  {
   "cell_type": "code",
   "execution_count": 7,
   "metadata": {
    "collapsed": false
   },
   "outputs": [],
   "source": [
    "# split the data into a training and test set\n",
    "X = readmit[features].values\n",
    "y = readmit.readmit30.values \n",
    "Xtrain, Xtest, Ytrain, Ytest = train_test_split(X, y, test_size = .2, \n",
    "                                                random_state = 7, stratify = y)"
   ]
  },
  {
   "cell_type": "markdown",
   "metadata": {},
   "source": [
    "Now that the data set is split, we can set up the regression and run it. There are a few important things happening in this process. First is the creation of a grid of possible values for C, which is a tuning parameter used when data cannot be separated into two categories with a clean, straight line in the x-y plane. When a best attempt at such a line is drawn, some observations that belong to one category might still lie on the \"wrong\" side of the separating line. To account for this dynamic, we introduce a tuning parameter into the math of logistic regression. This step ideally creates a value of C that is neither too high nor too low. The former could create a model that is too biased toward the training data to be generalizable, and the latter could create a model with too much variance to have much predictive value (kind of like a jack of all trades being a master of none). \n",
    "\n",
    "The second tool at hand is the GridSearchCV function. The grid search allows us to perform an exhaustive search for the best C in just one line of code. The process also uses cross validation and an l2 penalty, which both help manage variance and in turn keep the model from becoming too general to the point that its predictive value is weakened."
   ]
  },
  {
   "cell_type": "code",
   "execution_count": 8,
   "metadata": {
    "collapsed": false
   },
   "outputs": [
    {
     "name": "stdout",
     "output_type": "stream",
     "text": [
      "{'C': 0.001} 0.807966339411\n"
     ]
    }
   ],
   "source": [
    "# create grid, run grid search w/ logistic regression, find best C and its accuracy score\n",
    "\n",
    "C_grid = {'C': [0.001, 0.01, 0.1, 1, 10, 100]} #dictionary w/ C as key and possible values\n",
    "weights = {0: .1, 1: .9} # class weights to address imbalance of dependent variable \n",
    "clf_grid = GridSearchCV(LogisticRegression(penalty='l2', class_weight = weights), C_grid, \n",
    "                        cv = 5, scoring = 'accuracy') \n",
    "clf_grid.fit(Xtrain, Ytrain) #fit model on training data\n",
    "\n",
    "print(clf_grid.best_params_, clf_grid.best_score_) #output best C and best accuracy score"
   ]
  },
  {
   "cell_type": "code",
   "execution_count": 9,
   "metadata": {
    "collapsed": false
   },
   "outputs": [
    {
     "data": {
      "text/plain": [
       "0.80852734922861147"
      ]
     },
     "execution_count": 9,
     "metadata": {},
     "output_type": "execute_result"
    }
   ],
   "source": [
    "# check model accuracy on training data \n",
    "clf_grid_best = LogisticRegression(C = clf_grid.best_params_['C'], penalty='l2', \n",
    "                                    class_weight = weights)\n",
    "clf_grid_best.fit(Xtrain, Ytrain)\n",
    "\n",
    "x_pred_train = clf_grid_best.predict(Xtrain) #capture predictions for Y based on data in X\n",
    "accuracy_score(x_pred_train, Ytrain)"
   ]
  },
  {
   "cell_type": "code",
   "execution_count": 7,
   "metadata": {
    "collapsed": false
   },
   "outputs": [
    {
     "data": {
      "text/plain": [
       "0.82436981075622706"
      ]
     },
     "execution_count": 7,
     "metadata": {},
     "output_type": "execute_result"
    }
   ],
   "source": [
    "# check model accuracy on test data \n",
    "clf_grid_best.fit(Xtest, Ytest)\n",
    "x_pred_test = clf_grid_best.predict(Xtest)\n",
    "accuracy_score(x_pred_test, Ytest)"
   ]
  },
  {
   "cell_type": "markdown",
   "metadata": {},
   "source": [
    "In addition to accuracy, it often helps to check another metric called precision-recall. Precision-recall analysis reports various percentages for how well a model does at classifying observations accurately for an outcome. I'll talk about this more once we produce the numbers in classification reports below. "
   ]
  },
  {
   "cell_type": "code",
   "execution_count": 8,
   "metadata": {
    "collapsed": false
   },
   "outputs": [
    {
     "name": "stdout",
     "output_type": "stream",
     "text": [
      "             precision    recall  f1-score   support\n",
      "\n",
      "          0       0.95      0.84      0.89     48616\n",
      "          1       0.24      0.52      0.33      4859\n",
      "\n",
      "avg / total       0.88      0.81      0.84     53475\n",
      "\n"
     ]
    }
   ],
   "source": [
    "# classification report for training data \n",
    "report_train = classification_report(Ytrain, x_pred_train) #classify actual Y values in test data vs. those predicted in X\n",
    "print(report_train)"
   ]
  },
  {
   "cell_type": "code",
   "execution_count": 9,
   "metadata": {
    "collapsed": false
   },
   "outputs": [
    {
     "name": "stdout",
     "output_type": "stream",
     "text": [
      "             precision    recall  f1-score   support\n",
      "\n",
      "          0       0.95      0.86      0.90     12154\n",
      "          1       0.26      0.50      0.34      1215\n",
      "\n",
      "avg / total       0.88      0.82      0.85     13369\n",
      "\n"
     ]
    }
   ],
   "source": [
    "# classification report for test data\n",
    "report_test = classification_report(Ytest, x_pred_test) \n",
    "print(report_test)"
   ]
  },
  {
   "cell_type": "markdown",
   "metadata": {},
   "source": [
    "Precision reflects the percentage of positive (i.e., readmitted within 30 days) predictions that are correct. If the model classifies 100 observations as positive, and 80 of those were in fact positive, then the model's precision is .8 (or 80%). \n",
    "\n",
    "Recall captures the percent of true positives that are classified as positive. Returning to our model's context, if there were 1,000 patients readmitted within thirty days and the model detected 850 of them, then the model's recall would be .85 (or 85%).\n",
    "\n",
    "Finally, the F1-score (the harmonic mean) shows the weighted average of precision and recall. It is a useful metric because it factors in both false positives and false negatives. The model here has an F1-score of .85, which is pretty good considering that 1.00 would be a perfect score and .5 would be as good as random guessing. However, this higher score masks the model's weak performance with positive cases."
   ]
  },
  {
   "cell_type": "markdown",
   "metadata": {},
   "source": [
    "## Accuracy Score vs. ROC Curve\n",
    "\n",
    "The chosen model (with the best C and accuracy score) has an accuracy score of about .824, which means that about 82.4% of the model's predictions made about readmission within 30 days were correct. While accuracy can be an okay starting point to assess model performance, it isn't necessarily the best one for this case. Accuracy score is usually better when the number of observations is equal for each category within a feature, so let's look at another performance metric -- the area under an ROC curve -- next. \n",
    "\n",
    "An ROC curve reflects how well a model differentiates positive (readmission within 30 days, in our case) and negative outcomes. A model making all predictions correctly has an area of 1. A model that performs no better than random guessing has an area of 0.5. As we'll see in a moment, the curve itself plots the true positive rate against the false positive rate to help observers gauge performance."
   ]
  },
  {
   "cell_type": "code",
   "execution_count": 19,
   "metadata": {
    "collapsed": false
   },
   "outputs": [
    {
     "name": "stdout",
     "output_type": "stream",
     "text": [
      "{'C': 0.01} 0.784683277694\n"
     ]
    }
   ],
   "source": [
    "# logistic regression with area under ROC curve as metric \n",
    "C_grid = {'C': [0.001, 0.01, 0.1, 1, 10, 100]} \n",
    "clf_grid_ROC = GridSearchCV(LogisticRegression(penalty='l2', class_weight = weights), \n",
    "                            C_grid, cv = 5, scoring = 'roc_auc')\n",
    "clf_grid_ROC.fit(Xtrain, Ytrain) \n",
    "print(clf_grid_ROC.best_params_, clf_grid_ROC.best_score_) "
   ]
  },
  {
   "cell_type": "code",
   "execution_count": 11,
   "metadata": {
    "collapsed": false
   },
   "outputs": [
    {
     "data": {
      "text/plain": [
       "0.78994358026510514"
      ]
     },
     "execution_count": 11,
     "metadata": {},
     "output_type": "execute_result"
    }
   ],
   "source": [
    "# check ROC performance on training set\n",
    "clf_grid_ROC_best = LogisticRegression(penalty='l2', class_weight = weights, \n",
    "                                       C = clf_grid_ROC.best_params_['C'])\n",
    "clf_grid_ROC_best.fit(Xtrain, Ytrain)\n",
    "\n",
    "probs_train = clf_grid_ROC_best.predict_proba(Xtrain)\n",
    "preds_train = probs_train[:,1]\n",
    "roc_auc_score(Ytrain, preds_train)"
   ]
  },
  {
   "cell_type": "code",
   "execution_count": 12,
   "metadata": {
    "collapsed": false
   },
   "outputs": [
    {
     "data": {
      "text/plain": [
       "0.79437791145322278"
      ]
     },
     "execution_count": 12,
     "metadata": {},
     "output_type": "execute_result"
    }
   ],
   "source": [
    "# check ROC performance on test set \n",
    "clf_grid_ROC_best.fit(Xtest, Ytest)\n",
    "\n",
    "probs_test = clf_grid_ROC_best.predict_proba(Xtest)\n",
    "preds_test = probs_test[:,1]\n",
    "roc_auc_score(Ytest, preds_test)"
   ]
  },
  {
   "cell_type": "code",
   "execution_count": 14,
   "metadata": {
    "collapsed": false
   },
   "outputs": [
    {
     "data": {
      "image/png": "[encoded data removed]",
      "text/plain": [
       "<matplotlib.figure.Figure at 0x131b35160>"
      ]
     },
     "metadata": {},
     "output_type": "display_data"
    }
   ],
   "source": [
    "# plot ROC curve from test data\n",
    "fpr, tpr, threshold = roc_curve(Ytest, preds_test) #find true- and false-positive rates for relevant decision thresholds\n",
    "roc_auc = auc(fpr, tpr) #compute area under ROC curve using trapezoidal rule (not a binary classification here)\n",
    "\n",
    "plt.title('Receiver Operating Characteristic')\n",
    "plt.plot(fpr, tpr, 'blue', label = 'AUC = %0.4f' % roc_auc) #create line with AUC value for test data\n",
    "plt.plot([0, 1], [0, 1],'r--', label = 'AUC = .5') #create line with AUC=.5 for comparison\n",
    "plt.legend(loc = 'lower right')\n",
    "plt.xlim([0, 1])\n",
    "plt.ylim([0, 1])\n",
    "plt.ylabel('True Positive Rate')\n",
    "plt.xlabel('False Positive Rate')\n",
    "plt.show() "
   ]
  },
  {
   "cell_type": "markdown",
   "metadata": {},
   "source": [
    "A (theoretically) perfect ROC curve comprises a vertical line along the y-axis joined with a horizontal line at y = 1 (essentially an upside-down *L*. The closer our curve is to that ideal one, the better it is. So our model is looking pretty good at this point. Another line of comparison is the dotted red line, which represents at 50% success rate for binary predictions. If our model's line falls to this point, it is no better than randomly guessing would be. "
   ]
  },
  {
   "cell_type": "markdown",
   "metadata": {
    "collapsed": true
   },
   "source": [
    "## Confusion Matrix\n",
    "\n",
    "A third way to evaluate model performance is a confusion matrix, which puts our model's predictions into four categories:\n",
    "\n",
    "- In the top-left quadrant is the number of observations classified as not readmitted within 30 days that were in fact not readmitted within 30 days. This is the true negative count. \n",
    "- In the top-right quadrant is the number of observations classified as readmitted within 30 days that were in fact not readmitted within 30 days. This is the false positive count. \n",
    "- In the lower left quadrant is the number of observations classified as not readmitted within 30 days that were in fact readmitted within 30 days. This is the false negative count. \n",
    "- In the lower right quadrant is the number of observations classified as readmitted within 30 days that were in fact readmitted within 30 days. This is the true positive count. "
   ]
  },
  {
   "cell_type": "code",
   "execution_count": 10,
   "metadata": {
    "collapsed": false
   },
   "outputs": [
    {
     "name": "stdout",
     "output_type": "stream",
     "text": [
      "Predicted      0      1    All\n",
      "Actual                        \n",
      "0          40694   7922  48616\n",
      "1           2317   2542   4859\n",
      "All        43011  10464  53475\n"
     ]
    }
   ],
   "source": [
    "# confusion matrix for training data\n",
    "actual_train = pd.Series(Ytrain, name = 'Actual')\n",
    "predict_train = pd.Series(x_pred_train, name = 'Predicted') \n",
    "train_ct = pd.crosstab(actual_train, predict_train, margins = True) \n",
    "print(train_ct)"
   ]
  },
  {
   "cell_type": "code",
   "execution_count": 11,
   "metadata": {
    "collapsed": false
   },
   "outputs": [
    {
     "name": "stdout",
     "output_type": "stream",
     "text": [
      "Training accuracy for not readmitted: 0.837\n",
      "Training accuracy for readmitted (Recall): 0.523\n"
     ]
    }
   ],
   "source": [
    " # as percentages\n",
    "TN_train = train_ct.iloc[0,0] / train_ct.iloc[0,2]\n",
    "TP_train = train_ct.iloc[1,1] / train_ct.iloc[1,2]\n",
    "print('Training accuracy for not readmitted: {}'.format('%0.3f' % TN_train))\n",
    "print('Training accuracy for readmitted (Recall): {}'.format('%0.3f' % TP_train))"
   ]
  },
  {
   "cell_type": "code",
   "execution_count": 22,
   "metadata": {
    "collapsed": false
   },
   "outputs": [
    {
     "name": "stdout",
     "output_type": "stream",
     "text": [
      "Predicted      0     1    All\n",
      "Actual                       \n",
      "0          10408  1746  12154\n",
      "1            602   613   1215\n",
      "All        11010  2359  13369\n"
     ]
    }
   ],
   "source": [
    "# confusion matrix for test data\n",
    "actual_test = pd.Series(Ytest, name = 'Actual')\n",
    "predict_test = pd.Series(x_pred_test, name = 'Predicted') \n",
    "test_ct = pd.crosstab(actual_test, predict_test, margins = True) \n",
    "print(test_ct)"
   ]
  },
  {
   "cell_type": "code",
   "execution_count": 23,
   "metadata": {
    "collapsed": false
   },
   "outputs": [
    {
     "name": "stdout",
     "output_type": "stream",
     "text": [
      "Test accuracy for not readmitted: 0.856\n",
      "Test accuracy for readmitted (Recall): 0.505\n"
     ]
    }
   ],
   "source": [
    " # as percentages\n",
    "TN_test = test_ct.iloc[0,0] / test_ct.iloc[0,2]\n",
    "TP_test = test_ct.iloc[1,1] / test_ct.iloc[1,2]\n",
    "print('Test accuracy for not readmitted: {}'.format('%0.3f' % TN_test))\n",
    "print('Test accuracy for readmitted (Recall): {}'.format('%0.3f' % TP_test))"
   ]
  },
  {
   "cell_type": "markdown",
   "metadata": {},
   "source": [
    "The model does quite well predicting negative (labeled False in the matrices) cases, in which patients were not readmitted within thirty days. Percent accuracy is in the mid-80s. For positive cases, however, the model is just above 50% accuracy, which is just a little better than random chance. (You may also notice some overlap in the numbers here and those from the precision-recall part earlier.) "
   ]
  },
  {
   "cell_type": "markdown",
   "metadata": {
    "collapsed": true
   },
   "source": [
    "## Improvement Through Undersampling\n",
    "\n",
    "Although the accuracy for non-readmitted patients was quite good, the accuracy for positive cases (recall) was just slightly better than a random guess would be. Part of the reason for this issue might be the significant imblance in positive and negative outcomes. As we saw earlier, there are about 11 patients who were not readmitted within 30 days for every patient who was. In order to see if our model's performance is due to this imbalance, we can try the undersampling process with observations that did not show readmission within 30 days. Here, we'll use random undersampling to randomly choose fewer observations with the negative outcome in order to create a balance with positive outcomes. "
   ]
  },
  {
   "cell_type": "code",
   "execution_count": 12,
   "metadata": {
    "collapsed": true
   },
   "outputs": [],
   "source": [
    "# capture independent variables in list\n",
    "features = list(readmit) \n",
    "features = [e for e in features if e not in ('Unnamed: 0', 'readmit30')]"
   ]
  },
  {
   "cell_type": "code",
   "execution_count": 6,
   "metadata": {
    "collapsed": false
   },
   "outputs": [
    {
     "data": {
      "text/plain": [
       "Counter({0: 6074, 1: 6074})"
      ]
     },
     "execution_count": 6,
     "metadata": {},
     "output_type": "execute_result"
    }
   ],
   "source": [
    "from collections import Counter\n",
    "from imblearn.under_sampling import RandomUnderSampler \n",
    "\n",
    "X = readmit[features].values #majority class to be undersampled\n",
    "Y = readmit.readmit30.values \n",
    "\n",
    "rus = RandomUnderSampler(random_state = 31)\n",
    "X_res, Y_res = rus.fit_sample(X, Y)\n",
    "Counter(Y_res) "
   ]
  },
  {
   "cell_type": "code",
   "execution_count": 45,
   "metadata": {
    "collapsed": true
   },
   "outputs": [],
   "source": [
    "# train, test, split\n",
    "Xtrain, Xtest, Ytrain, Ytest = train_test_split(X_res, Y_res, test_size = .2, \n",
    "                                                random_state = 31, stratify = Y_res)"
   ]
  },
  {
   "cell_type": "code",
   "execution_count": 46,
   "metadata": {
    "collapsed": false
   },
   "outputs": [
    {
     "name": "stdout",
     "output_type": "stream",
     "text": [
      "{'C': 0.01} 0.718769294093\n"
     ]
    }
   ],
   "source": [
    "# create grid, run grid search w/ logistic regression, find best C and its accuracy score\n",
    "C_grid = {'C': [0.001, 0.01, 0.1, 1, 10, 100]} \n",
    "clf_grid = GridSearchCV(LogisticRegression(penalty='l2'), C_grid, cv = 5, scoring = 'accuracy') \n",
    "clf_grid.fit(Xtrain, Ytrain) \n",
    "\n",
    "print(clf_grid.best_params_, clf_grid.best_score_) "
   ]
  },
  {
   "cell_type": "code",
   "execution_count": 29,
   "metadata": {
    "collapsed": false
   },
   "outputs": [
    {
     "data": {
      "text/plain": [
       "0.72844206626877961"
      ]
     },
     "execution_count": 29,
     "metadata": {},
     "output_type": "execute_result"
    }
   ],
   "source": [
    "# check model accuracy on training data \n",
    "clf_grid_best = LogisticRegression(C = clf_grid.best_params_['C'], penalty='l2')\n",
    "clf_grid_best.fit(Xtrain, Ytrain)\n",
    "\n",
    "x_pred_train = clf_grid_best.predict(Xtrain) #capture predictions for Y based on data in X\n",
    "accuracy_score(x_pred_train, Ytrain)"
   ]
  },
  {
   "cell_type": "code",
   "execution_count": 30,
   "metadata": {
    "collapsed": false
   },
   "outputs": [
    {
     "data": {
      "text/plain": [
       "0.66255144032921809"
      ]
     },
     "execution_count": 30,
     "metadata": {},
     "output_type": "execute_result"
    }
   ],
   "source": [
    "# check model accuracy on test data \n",
    "clf_grid_best.fit(Xtest, Ytest)\n",
    "\n",
    "x_pred_test = clf_grid_best.predict(Xtest)\n",
    "accuracy_score(x_pred_test, Ytest)"
   ]
  },
  {
   "cell_type": "code",
   "execution_count": 31,
   "metadata": {
    "collapsed": false
   },
   "outputs": [
    {
     "name": "stdout",
     "output_type": "stream",
     "text": [
      "Predicted     0     1   All\n",
      "Actual                     \n",
      "0           846   369  1215\n",
      "1           451   764  1215\n",
      "All        1297  1133  2430\n"
     ]
    }
   ],
   "source": [
    "# confusion matrix for logistic model w/ random undersampling\n",
    "actual = pd.Series(Ytest, name = 'Actual')\n",
    "predicted_rus = pd.Series(clf_grid_best.predict(Xtest), name = 'Predicted')\n",
    "ct_rus = pd.crosstab(actual, predicted_rus, margins = True)\n",
    "print(ct_rus)"
   ]
  },
  {
   "cell_type": "code",
   "execution_count": 32,
   "metadata": {
    "collapsed": false
   },
   "outputs": [
    {
     "name": "stdout",
     "output_type": "stream",
     "text": [
      "Logistic Regression accuracy for not readmitted: 0.696\n",
      "Logistic Regression accuracy for readmitted (Recall): 0.629\n"
     ]
    }
   ],
   "source": [
    "# confusion matrix with percentages\n",
    "TN_rus = ct_rus.iloc[0,0] / ct_rus.iloc[0,2]\n",
    "TP_rus = ct_rus.iloc[1,1] / ct_rus.iloc[1,2]\n",
    "print('Logistic Regression accuracy for not readmitted: {}'.format('%0.3f' % TN_rus))\n",
    "print('Logistic Regression accuracy for readmitted (Recall): {}'.format('%0.3f' % TP_rus))"
   ]
  },
  {
   "cell_type": "markdown",
   "metadata": {},
   "source": [
    "The undersampling approach improves the model's recall noticeably, although accuracy for negative cases suffered. We can try another technique called oversampling to see if further improvements are possible."
   ]
  },
  {
   "cell_type": "markdown",
   "metadata": {},
   "source": [
    "## Oversampling (SMOTE)\n",
    "\n",
    "In addition to undersampling the majority class (not readmitted within 30 days), we can also try oversampling the minority class (readmitted within 30 days). Here, we'll use a common oversampling method called SMOTE (Synthetic Minority Oversampling Technique). "
   ]
  },
  {
   "cell_type": "code",
   "execution_count": 22,
   "metadata": {
    "collapsed": false
   },
   "outputs": [
    {
     "data": {
      "text/plain": [
       "Counter({0: 60770, 1: 60770})"
      ]
     },
     "execution_count": 22,
     "metadata": {},
     "output_type": "execute_result"
    }
   ],
   "source": [
    "from imblearn.over_sampling import SMOTE \n",
    "from collections import Counter\n",
    "\n",
    "X = readmit[features].values \n",
    "Y = readmit.readmit30.values #minority class to be oversampled\n",
    "\n",
    "sm = SMOTE(random_state = 31)\n",
    "X_resamp, Y_resamp = sm.fit_sample(X, Y)\n",
    "Counter(Y_resamp) "
   ]
  },
  {
   "cell_type": "code",
   "execution_count": 23,
   "metadata": {
    "collapsed": true
   },
   "outputs": [],
   "source": [
    "# train, test, split\n",
    "Xtrain, Xtest, Ytrain, Ytest = train_test_split(X_resamp, Y_resamp, test_size = .2, \n",
    "                                                random_state = 31, stratify = Y_resamp)"
   ]
  },
  {
   "cell_type": "code",
   "execution_count": 24,
   "metadata": {
    "collapsed": false
   },
   "outputs": [
    {
     "name": "stdout",
     "output_type": "stream",
     "text": [
      "{'C': 0.01} 0.724555701827\n"
     ]
    }
   ],
   "source": [
    "# create grid, run grid search w/ logistic regression, find best C and its accuracy score\n",
    "C_grid = {'C': [0.001, 0.01, 0.1, 1, 10, 100]} \n",
    "clf_grid = GridSearchCV(LogisticRegression(penalty='l2'), C_grid, cv = 5, scoring = 'accuracy') \n",
    "clf_grid.fit(Xtrain, Ytrain) \n",
    "\n",
    "print(clf_grid.best_params_, clf_grid.best_score_) "
   ]
  },
  {
   "cell_type": "code",
   "execution_count": 25,
   "metadata": {
    "collapsed": false
   },
   "outputs": [
    {
     "data": {
      "text/plain": [
       "0.72503908178377485"
      ]
     },
     "execution_count": 25,
     "metadata": {},
     "output_type": "execute_result"
    }
   ],
   "source": [
    "# check model accuracy on training data \n",
    "clf_grid_best = LogisticRegression(C = clf_grid.best_params_['C'], penalty='l2')\n",
    "clf_grid_best.fit(Xtrain, Ytrain)\n",
    "\n",
    "x_pred_train = clf_grid_best.predict(Xtrain) #capture predictions for Y based on data in X\n",
    "accuracy_score(x_pred_train, Ytrain)"
   ]
  },
  {
   "cell_type": "code",
   "execution_count": 26,
   "metadata": {
    "collapsed": false
   },
   "outputs": [
    {
     "data": {
      "text/plain": [
       "0.72766167516866875"
      ]
     },
     "execution_count": 26,
     "metadata": {},
     "output_type": "execute_result"
    }
   ],
   "source": [
    "# check model accuracy on test data \n",
    "clf_grid_best.fit(Xtest, Ytest)\n",
    "\n",
    "x_pred_test = clf_grid_best.predict(Xtest)\n",
    "accuracy_score(x_pred_test, Ytest)"
   ]
  },
  {
   "cell_type": "code",
   "execution_count": 28,
   "metadata": {
    "collapsed": false
   },
   "outputs": [
    {
     "name": "stdout",
     "output_type": "stream",
     "text": [
      "Predicted      0      1    All\n",
      "Actual                        \n",
      "0          37781  10835  48616\n",
      "1          15802  32814  48616\n",
      "All        53583  43649  97232\n"
     ]
    }
   ],
   "source": [
    "# confusion matrix with SMOTE oversampling (training data)\n",
    "actual_tr = pd.Series(Ytrain, name = 'Actual')\n",
    "predicted_sm_tr = pd.Series(clf_grid_best.predict(Xtrain), name = 'Predicted')\n",
    "ct_sm_tr = pd.crosstab(actual_tr, predicted_sm_tr, margins = True)\n",
    "print(ct_sm_tr)"
   ]
  },
  {
   "cell_type": "code",
   "execution_count": 29,
   "metadata": {
    "collapsed": false
   },
   "outputs": [
    {
     "name": "stdout",
     "output_type": "stream",
     "text": [
      "Training Accuracy for not readmitted: 0.777\n",
      "Training Accuracy for readmitted (Recall): 0.675\n",
      "Training Correct Positive Predictions (Precision): 0.752\n"
     ]
    }
   ],
   "source": [
    "# key percentages from confusion matrix \n",
    "TN_sm_tr = ct_sm_tr.iloc[0,0] / ct_sm_tr.iloc[0,2]\n",
    "TP_sm_tr = ct_sm_tr.iloc[1,1] / ct_sm_tr.iloc[1,2]\n",
    "Prec_sm_tr = ct_sm_tr.iloc[1,1] / ct_sm_tr.iloc[2,1] \n",
    "print('Training Accuracy for not readmitted: {}'.format('%0.3f' % TN_sm_tr))\n",
    "print('Training Accuracy for readmitted (Recall): {}'.format('%0.3f' % TP_sm_tr))\n",
    "print('Training Correct Positive Predictions (Precision): {}'.format('%0.3f' % Prec_sm_tr))"
   ]
  },
  {
   "cell_type": "code",
   "execution_count": 30,
   "metadata": {
    "collapsed": false
   },
   "outputs": [
    {
     "name": "stdout",
     "output_type": "stream",
     "text": [
      "Predicted      0      1    All\n",
      "Actual                        \n",
      "0           9487   2667  12154\n",
      "1           3953   8201  12154\n",
      "All        13440  10868  24308\n"
     ]
    }
   ],
   "source": [
    "# confusion matrix with SMOTE oversampling (test data)\n",
    "actual = pd.Series(Ytest, name = 'Actual')\n",
    "predicted_sm = pd.Series(clf_grid_best.predict(Xtest), name = 'Predicted')\n",
    "ct_sm = pd.crosstab(actual, predicted_sm, margins = True)\n",
    "print(ct_sm)"
   ]
  },
  {
   "cell_type": "code",
   "execution_count": 31,
   "metadata": {
    "collapsed": false
   },
   "outputs": [
    {
     "name": "stdout",
     "output_type": "stream",
     "text": [
      "Accuracy for not readmitted: 0.781\n",
      "Accuracy for readmitted (Recall): 0.675\n",
      "Correct Positive Predictions (Precision): 0.755\n"
     ]
    }
   ],
   "source": [
    "# key percentages from confusion matrix \n",
    "TN_sm = ct_sm.iloc[0,0] / ct_sm.iloc[0,2]\n",
    "TP_sm = ct_sm.iloc[1,1] / ct_sm.iloc[1,2]\n",
    "Prec_sm = ct_sm.iloc[1,1] / ct_sm.iloc[2,1] \n",
    "print('Accuracy for not readmitted: {}'.format('%0.3f' % TN_sm))\n",
    "print('Accuracy for readmitted (Recall): {}'.format('%0.3f' % TP_sm))\n",
    "print('Correct Positive Predictions (Precision): {}'.format('%0.3f' % Prec_sm))"
   ]
  },
  {
   "cell_type": "markdown",
   "metadata": {},
   "source": [
    "The oversampling approach improved accuracy for both positive and negative cases when compared with undersampling. The global accuracy (about 73%) is a little lower than it was in the original model (about 80%), but the trade-off to improve recall is likely worth it. Predictive value with respect to the positive class is more valuable, so the oversampling model is our best choice with logistic regression.\n",
    "\n",
    "The ten features with the highest predictive values with respect to readmission are reproduced below. (In the interest of brevity, I did not reproduce full models.) \n",
    "\n",
    "A higher coefficient in logistic regression indicates a higher effect on the odds of readmission within 30 days. For example, mathematically, num_visits (number of hospital visits) has a coefficient of 0.589. This means that, controlling for other model variables, the estimated odds of readmission are e^0.589 = 1.802 times higher for each additional visit that a patient makes. "
   ]
  },
  {
   "cell_type": "code",
   "execution_count": 32,
   "metadata": {
    "collapsed": false
   },
   "outputs": [
    {
     "data": {
      "text/html": [
       "<div>\n",
       "<table border=\"1\" class=\"dataframe\">\n",
       "  <thead>\n",
       "    <tr style=\"text-align: right;\">\n",
       "      <th></th>\n",
       "      <th>coefficient</th>\n",
       "      <th>feature</th>\n",
       "    </tr>\n",
       "  </thead>\n",
       "  <tbody>\n",
       "    <tr>\n",
       "      <th>44</th>\n",
       "      <td>0.930575</td>\n",
       "      <td>discharge_disposition_id_22</td>\n",
       "    </tr>\n",
       "    <tr>\n",
       "      <th>7</th>\n",
       "      <td>0.822260</td>\n",
       "      <td>num_visits</td>\n",
       "    </tr>\n",
       "    <tr>\n",
       "      <th>33</th>\n",
       "      <td>0.582821</td>\n",
       "      <td>discharge_disposition_id_5</td>\n",
       "    </tr>\n",
       "    <tr>\n",
       "      <th>5</th>\n",
       "      <td>0.417571</td>\n",
       "      <td>number_inpatient</td>\n",
       "    </tr>\n",
       "    <tr>\n",
       "      <th>31</th>\n",
       "      <td>0.348693</td>\n",
       "      <td>discharge_disposition_id_3</td>\n",
       "    </tr>\n",
       "    <tr>\n",
       "      <th>49</th>\n",
       "      <td>0.212976</td>\n",
       "      <td>discharge_disposition_id_28</td>\n",
       "    </tr>\n",
       "    <tr>\n",
       "      <th>21</th>\n",
       "      <td>0.179809</td>\n",
       "      <td>age_[80-90)</td>\n",
       "    </tr>\n",
       "    <tr>\n",
       "      <th>20</th>\n",
       "      <td>0.175456</td>\n",
       "      <td>age_[70-80)</td>\n",
       "    </tr>\n",
       "    <tr>\n",
       "      <th>116</th>\n",
       "      <td>0.171589</td>\n",
       "      <td>change_No</td>\n",
       "    </tr>\n",
       "    <tr>\n",
       "      <th>9</th>\n",
       "      <td>0.161722</td>\n",
       "      <td>race_Caucasian</td>\n",
       "    </tr>\n",
       "  </tbody>\n",
       "</table>\n",
       "</div>"
      ],
      "text/plain": [
       "     coefficient                      feature\n",
       "44      0.930575  discharge_disposition_id_22\n",
       "7       0.822260                   num_visits\n",
       "33      0.582821   discharge_disposition_id_5\n",
       "5       0.417571             number_inpatient\n",
       "31      0.348693   discharge_disposition_id_3\n",
       "49      0.212976  discharge_disposition_id_28\n",
       "21      0.179809                  age_[80-90)\n",
       "20      0.175456                  age_[70-80)\n",
       "116     0.171589                    change_No\n",
       "9       0.161722               race_Caucasian"
      ]
     },
     "execution_count": 32,
     "metadata": {},
     "output_type": "execute_result"
    }
   ],
   "source": [
    "# feature evaluation for logistic regression\n",
    "logistic_coefs = clf_grid_best.coef_[0]\n",
    "logistic_coef_df = pd.DataFrame({'feature': features, 'coefficient': logistic_coefs})\n",
    "logistic_df = logistic_coef_df.sort_values('coefficient', ascending = False)\n",
    "logistic_df.head(10)"
   ]
  },
  {
   "cell_type": "code",
   "execution_count": 33,
   "metadata": {
    "collapsed": false
   },
   "outputs": [
    {
     "data": {
      "text/html": [
       "<div>\n",
       "<table border=\"1\" class=\"dataframe\">\n",
       "  <thead>\n",
       "    <tr style=\"text-align: right;\">\n",
       "      <th></th>\n",
       "      <th>coefficient</th>\n",
       "      <th>feature</th>\n",
       "    </tr>\n",
       "  </thead>\n",
       "  <tbody>\n",
       "    <tr>\n",
       "      <th>118</th>\n",
       "      <td>-0.224747</td>\n",
       "      <td>first_diag_diabetes</td>\n",
       "    </tr>\n",
       "    <tr>\n",
       "      <th>18</th>\n",
       "      <td>-0.224937</td>\n",
       "      <td>age_[50-60)</td>\n",
       "    </tr>\n",
       "    <tr>\n",
       "      <th>103</th>\n",
       "      <td>-0.232878</td>\n",
       "      <td>miglitol_No</td>\n",
       "    </tr>\n",
       "    <tr>\n",
       "      <th>99</th>\n",
       "      <td>-0.257905</td>\n",
       "      <td>rosiglitazone_Steady</td>\n",
       "    </tr>\n",
       "    <tr>\n",
       "      <th>26</th>\n",
       "      <td>-0.259064</td>\n",
       "      <td>admission_type_id_5</td>\n",
       "    </tr>\n",
       "    <tr>\n",
       "      <th>127</th>\n",
       "      <td>-0.275262</td>\n",
       "      <td>second_diag_digestive</td>\n",
       "    </tr>\n",
       "    <tr>\n",
       "      <th>108</th>\n",
       "      <td>-0.278398</td>\n",
       "      <td>insulin_No</td>\n",
       "    </tr>\n",
       "    <tr>\n",
       "      <th>47</th>\n",
       "      <td>-0.293866</td>\n",
       "      <td>discharge_disposition_id_25</td>\n",
       "    </tr>\n",
       "    <tr>\n",
       "      <th>119</th>\n",
       "      <td>-0.306081</td>\n",
       "      <td>first_diag_digestive</td>\n",
       "    </tr>\n",
       "    <tr>\n",
       "      <th>125</th>\n",
       "      <td>-0.418719</td>\n",
       "      <td>first_diag_respiratory</td>\n",
       "    </tr>\n",
       "  </tbody>\n",
       "</table>\n",
       "</div>"
      ],
      "text/plain": [
       "     coefficient                      feature\n",
       "118    -0.224747          first_diag_diabetes\n",
       "18     -0.224937                  age_[50-60)\n",
       "103    -0.232878                  miglitol_No\n",
       "99     -0.257905         rosiglitazone_Steady\n",
       "26     -0.259064          admission_type_id_5\n",
       "127    -0.275262        second_diag_digestive\n",
       "108    -0.278398                   insulin_No\n",
       "47     -0.293866  discharge_disposition_id_25\n",
       "119    -0.306081         first_diag_digestive\n",
       "125    -0.418719       first_diag_respiratory"
      ]
     },
     "execution_count": 33,
     "metadata": {},
     "output_type": "execute_result"
    }
   ],
   "source": [
    "logistic_df.tail(10)"
   ]
  },
  {
   "cell_type": "markdown",
   "metadata": {
    "collapsed": true
   },
   "source": [
    "## Looping Processes to Correct Imbalanced Data\n",
    "\n",
    "Now that successful corrections for the imbalanced dependent variable have been made, we can repeat those processes a few times to ensure that we didn't \"just get lucky\" with the one-off uses of random undersampling and SMOTE. "
   ]
  },
  {
   "cell_type": "code",
   "execution_count": 35,
   "metadata": {
    "collapsed": true
   },
   "outputs": [],
   "source": [
    "# capture independent variables in list\n",
    "features = list(readmit) \n",
    "features = [e for e in features if e not in ('Unnamed: 0', 'readmit30')]"
   ]
  },
  {
   "cell_type": "code",
   "execution_count": 36,
   "metadata": {
    "collapsed": true
   },
   "outputs": [],
   "source": [
    "from collections import Counter\n",
    "from imblearn.under_sampling import RandomUnderSampler\n",
    "\n",
    "X = readmit[features].values #majority class to be undersampled\n",
    "Y = readmit.readmit30.values "
   ]
  },
  {
   "cell_type": "code",
   "execution_count": 37,
   "metadata": {
    "collapsed": false
   },
   "outputs": [
    {
     "name": "stdout",
     "output_type": "stream",
     "text": [
      "Counter({1: 6074, 0: 6074})\n",
      "{'C': 0.001} 0.713624202511\n",
      "Predicted     0     1   All\n",
      "Actual                     \n",
      "0           936   279  1215\n",
      "1           410   805  1215\n",
      "All        1346  1084  2430\n",
      "Logistic Regression accuracy for not readmitted: 0.770\n",
      "Logistic Regression accuracy for readmitted (Recall): 0.663\n",
      "Logistic Regression trial count: 1\n",
      "\n",
      "Counter({1: 6074, 0: 6074})\n",
      "{'C': 0.01} 0.710022638403\n",
      "Predicted     0     1   All\n",
      "Actual                     \n",
      "0           967   248  1215\n",
      "1           420   795  1215\n",
      "All        1387  1043  2430\n",
      "Logistic Regression accuracy for not readmitted: 0.796\n",
      "Logistic Regression accuracy for readmitted (Recall): 0.654\n",
      "Logistic Regression trial count: 2\n",
      "\n",
      "Counter({1: 6074, 0: 6074})\n",
      "{'C': 0.001} 0.715990944639\n",
      "Predicted     0     1   All\n",
      "Actual                     \n",
      "0           870   345  1215\n",
      "1           413   802  1215\n",
      "All        1283  1147  2430\n",
      "Logistic Regression accuracy for not readmitted: 0.716\n",
      "Logistic Regression accuracy for readmitted (Recall): 0.660\n",
      "Logistic Regression trial count: 3\n",
      "\n",
      "Counter({1: 6074, 0: 6074})\n",
      "{'C': 0.01} 0.71043424573\n",
      "Predicted     0     1   All\n",
      "Actual                     \n",
      "0           968   247  1215\n",
      "1           419   796  1215\n",
      "All        1387  1043  2430\n",
      "Logistic Regression accuracy for not readmitted: 0.797\n",
      "Logistic Regression accuracy for readmitted (Recall): 0.655\n",
      "Logistic Regression trial count: 4\n",
      "\n",
      "Counter({1: 6074, 0: 6074})\n",
      "{'C': 0.001} 0.707450092612\n",
      "Predicted     0     1   All\n",
      "Actual                     \n",
      "0           948   267  1215\n",
      "1           365   850  1215\n",
      "All        1313  1117  2430\n",
      "Logistic Regression accuracy for not readmitted: 0.780\n",
      "Logistic Regression accuracy for readmitted (Recall): 0.700\n",
      "Logistic Regression trial count: 5\n",
      "\n",
      "Counter({1: 6074, 0: 6074})\n",
      "{'C': 0.001} 0.718151883104\n",
      "Predicted     0     1   All\n",
      "Actual                     \n",
      "0           873   342  1215\n",
      "1           404   811  1215\n",
      "All        1277  1153  2430\n",
      "Logistic Regression accuracy for not readmitted: 0.719\n",
      "Logistic Regression accuracy for readmitted (Recall): 0.667\n",
      "Logistic Regression trial count: 6\n",
      "\n",
      "Counter({1: 6074, 0: 6074})\n",
      "{'C': 0.001} 0.721341839885\n",
      "Predicted     0     1   All\n",
      "Actual                     \n",
      "0           929   286  1215\n",
      "1           433   782  1215\n",
      "All        1362  1068  2430\n",
      "Logistic Regression accuracy for not readmitted: 0.765\n",
      "Logistic Regression accuracy for readmitted (Recall): 0.644\n",
      "Logistic Regression trial count: 7\n",
      "\n",
      "Counter({1: 6074, 0: 6074})\n",
      "{'C': 0.01} 0.713932908006\n",
      "Predicted     0     1   All\n",
      "Actual                     \n",
      "0           986   229  1215\n",
      "1           400   815  1215\n",
      "All        1386  1044  2430\n",
      "Logistic Regression accuracy for not readmitted: 0.812\n",
      "Logistic Regression accuracy for readmitted (Recall): 0.671\n",
      "Logistic Regression trial count: 8\n",
      "\n",
      "Counter({1: 6074, 0: 6074})\n",
      "{'C': 0.01} 0.704157233999\n",
      "Predicted     0     1   All\n",
      "Actual                     \n",
      "0           967   248  1215\n",
      "1           422   793  1215\n",
      "All        1389  1041  2430\n",
      "Logistic Regression accuracy for not readmitted: 0.796\n",
      "Logistic Regression accuracy for readmitted (Recall): 0.653\n",
      "Logistic Regression trial count: 9\n",
      "\n",
      "Counter({1: 6074, 0: 6074})\n",
      "{'C': 0.001} 0.717534472114\n",
      "Predicted     0     1   All\n",
      "Actual                     \n",
      "0           894   321  1215\n",
      "1           401   814  1215\n",
      "All        1295  1135  2430\n",
      "Logistic Regression accuracy for not readmitted: 0.736\n",
      "Logistic Regression accuracy for readmitted (Recall): 0.670\n",
      "Logistic Regression trial count: 10\n",
      "\n"
     ]
    }
   ],
   "source": [
    "# multiple calls of RandomUnderSampler\n",
    "\n",
    "n_trials = 10 # number of trials\n",
    "\n",
    "# Declare empty lists for true-positive and true-negative rates\n",
    "TNR = []\n",
    "TPR = [] \n",
    "\n",
    "# for loop such that variable \"trial\" varies from 0 to n_trials-1 \n",
    " # which means the loop executes n_trials times\n",
    "for trial in range(n_trials):\n",
    "    \n",
    "    # assume that X and Y are already defined, use RandomUnderSampler\n",
    "    rus = RandomUnderSampler(random_state = 31*trial) # randomized seed\n",
    "    X_res, Y_res = rus.fit_sample(X, Y)\n",
    "    print(Counter(Y_res)) #print results for Counter for each sample (trial)\n",
    "    \n",
    "    # train/test split\n",
    "    Xtrain, Xtest, Ytrain, Ytest = train_test_split(X_res, Y_res, test_size = .2, \n",
    "                                                    stratify = Y_res, random_state = 2*trial)\n",
    "    \n",
    "    # fit hyper-parameter\n",
    "    # create grid, run grid search w/ logistic regression, find best C and its accuracy score\n",
    "    C_grid = {'C': [0.001, 0.01, 0.1, 1, 10, 100]} \n",
    "    clf_grid = GridSearchCV(LogisticRegression(penalty='l2'), C_grid, cv = 5, scoring = 'accuracy') \n",
    "    clf_grid.fit(Xtrain, Ytrain) \n",
    "    print(clf_grid.best_params_, clf_grid.best_score_) \n",
    "    \n",
    "    # use that parameter with Logistic regression\n",
    "    # check model accuracy on training data \n",
    "    clf_grid_best = LogisticRegression(C = clf_grid.best_params_['C'], penalty='l2')\n",
    "    clf_grid_best.fit(Xtrain, Ytrain)\n",
    "    x_pred_train = clf_grid_best.predict(Xtrain) #capture predictions for Y based on data in X\n",
    "    accuracy_score(x_pred_train, Ytrain)\n",
    "    \n",
    "    # check model accuracy on test data \n",
    "    clf_grid_best.fit(Xtest, Ytest)\n",
    "    x_pred_test = clf_grid_best.predict(Xtest)\n",
    "    accuracy_score(x_pred_test, Ytest)\n",
    "    \n",
    "    # confusion matrix for logistic model w/ random undersampling\n",
    "    actual = pd.Series(Ytest, name = 'Actual')\n",
    "    predicted_rus = pd.Series(clf_grid_best.predict(Xtest), name = 'Predicted')\n",
    "    ct_rus = pd.crosstab(actual, predicted_rus, margins = True)\n",
    "    print(ct_rus)\n",
    "    \n",
    "    # capture given trial's true negative rate, add to array\n",
    "    tnr = ct_rus.iloc[0,0] / ct_rus.iloc[0,2]\n",
    "    TNR.append(tnr)\n",
    "    \n",
    "    # same process for true positive rate\n",
    "    tpr = ct_rus.iloc[1,1] / ct_rus.iloc[1,2]\n",
    "    TPR.append(tpr)\n",
    "    \n",
    "    # print TNR, TPR, and trial no.\n",
    "    print('Logistic Regression accuracy for not readmitted: {}'.format('%0.3f' % tnr))\n",
    "    print('Logistic Regression accuracy for readmitted (Recall): {}'.format('%0.3f' % tpr))\n",
    "    print('Logistic Regression trial count: {}'.format(trial + 1))\n",
    "    print() "
   ]
  },
  {
   "cell_type": "code",
   "execution_count": 41,
   "metadata": {
    "collapsed": false
   },
   "outputs": [
    {
     "data": {
      "image/png": "[encoded data removed]",
      "text/plain": [
       "<matplotlib.figure.Figure at 0x11a724f28>"
      ]
     },
     "metadata": {},
     "output_type": "display_data"
    }
   ],
   "source": [
    "# plot TNR and TPR as box plots\n",
    "rus_boxplots = pd.DataFrame({'TPR': TPR, 'TNR': TNR})\n",
    "\n",
    "sns.boxplot(data = plots)  \n",
    "plt.title('Box Plots for TPR and TNR in Random \\n Undersampling (Logistic Regression)')\n",
    "plt.ylabel('Percent')\n",
    "plt.show()"
   ]
  },
  {
   "cell_type": "code",
   "execution_count": 51,
   "metadata": {
    "collapsed": false
   },
   "outputs": [
    {
     "data": {
      "image/png": "[encoded data removed]",
      "text/plain": [
       "<matplotlib.figure.Figure at 0x119b70cf8>"
      ]
     },
     "metadata": {},
     "output_type": "display_data"
    }
   ],
   "source": [
    "# line plot\n",
    "rus_boxplots.plot.line()\n",
    "plt.xlabel('Sample Number')\n",
    "plt.ylabel('percentage')\n",
    "plt.title('Positive and Negative Accuracy Rates: Logistic Regression')\n",
    "plt.show()"
   ]
  },
  {
   "cell_type": "code",
   "execution_count": 52,
   "metadata": {
    "collapsed": false
   },
   "outputs": [
    {
     "name": "stdout",
     "output_type": "stream",
     "text": [
      "Counter({1: 60770, 0: 60770})\n",
      "{'C': 0.001} 0.716299650134\n",
      "Predicted     0     1   All\n",
      "Actual                     \n",
      "0           889   326  1215\n",
      "1           397   818  1215\n",
      "All        1286  1144  2430\n",
      "Logistic Regression accuracy for not readmitted: 0.732\n",
      "Logistic Regression accuracy for readmitted (Recall): 0.673\n",
      "Logistic Regression trial count: 1\n",
      "\n",
      "Counter({1: 60770, 0: 60770})\n",
      "{'C': 0.001} 0.717534472114\n",
      "Predicted     0     1   All\n",
      "Actual                     \n",
      "0           879   336  1215\n",
      "1           394   821  1215\n",
      "All        1273  1157  2430\n",
      "Logistic Regression accuracy for not readmitted: 0.723\n",
      "Logistic Regression accuracy for readmitted (Recall): 0.676\n",
      "Logistic Regression trial count: 2\n",
      "\n",
      "Counter({1: 60770, 0: 60770})\n",
      "{'C': 0.001} 0.722782465528\n",
      "Predicted     0     1   All\n",
      "Actual                     \n",
      "0           861   354  1215\n",
      "1           420   795  1215\n",
      "All        1281  1149  2430\n",
      "Logistic Regression accuracy for not readmitted: 0.709\n",
      "Logistic Regression accuracy for readmitted (Recall): 0.654\n",
      "Logistic Regression trial count: 3\n",
      "\n",
      "Counter({1: 60770, 0: 60770})\n",
      "{'C': 0.001} 0.71671125746\n",
      "Predicted     0     1   All\n",
      "Actual                     \n",
      "0           886   329  1215\n",
      "1           368   847  1215\n",
      "All        1254  1176  2430\n",
      "Logistic Regression accuracy for not readmitted: 0.729\n",
      "Logistic Regression accuracy for readmitted (Recall): 0.697\n",
      "Logistic Regression trial count: 4\n",
      "\n",
      "Counter({1: 60770, 0: 60770})\n",
      "{'C': 0.001} 0.723811483844\n",
      "Predicted     0     1   All\n",
      "Actual                     \n",
      "0           894   321  1215\n",
      "1           423   792  1215\n",
      "All        1317  1113  2430\n",
      "Logistic Regression accuracy for not readmitted: 0.736\n",
      "Logistic Regression accuracy for readmitted (Recall): 0.652\n",
      "Logistic Regression trial count: 5\n",
      "\n",
      "Counter({1: 60770, 0: 60770})\n",
      "{'C': 0.001} 0.715270631817\n",
      "Predicted     0     1   All\n",
      "Actual                     \n",
      "0           939   276  1215\n",
      "1           402   813  1215\n",
      "All        1341  1089  2430\n",
      "Logistic Regression accuracy for not readmitted: 0.773\n",
      "Logistic Regression accuracy for readmitted (Recall): 0.669\n",
      "Logistic Regression trial count: 6\n",
      "\n",
      "Counter({1: 60770, 0: 60770})\n",
      "{'C': 0.01} 0.718048981272\n",
      "Predicted     0     1   All\n",
      "Actual                     \n",
      "0           972   243  1215\n",
      "1           421   794  1215\n",
      "All        1393  1037  2430\n",
      "Logistic Regression accuracy for not readmitted: 0.800\n",
      "Logistic Regression accuracy for readmitted (Recall): 0.653\n",
      "Logistic Regression trial count: 7\n",
      "\n",
      "Counter({1: 60770, 0: 60770})\n",
      "{'C': 0.001} 0.722679563696\n",
      "Predicted     0     1   All\n",
      "Actual                     \n",
      "0           873   342  1215\n",
      "1           412   803  1215\n",
      "All        1285  1145  2430\n",
      "Logistic Regression accuracy for not readmitted: 0.719\n",
      "Logistic Regression accuracy for readmitted (Recall): 0.661\n",
      "Logistic Regression trial count: 8\n",
      "\n",
      "Counter({1: 60770, 0: 60770})\n",
      "{'C': 0.001} 0.710537147561\n",
      "Predicted     0     1   All\n",
      "Actual                     \n",
      "0           963   252  1215\n",
      "1           367   848  1215\n",
      "All        1330  1100  2430\n",
      "Logistic Regression accuracy for not readmitted: 0.793\n",
      "Logistic Regression accuracy for readmitted (Recall): 0.698\n",
      "Logistic Regression trial count: 9\n",
      "\n",
      "Counter({1: 60770, 0: 60770})\n",
      "{'C': 0.01} 0.71856349043\n",
      "Predicted     0     1   All\n",
      "Actual                     \n",
      "0           969   246  1215\n",
      "1           395   820  1215\n",
      "All        1364  1066  2430\n",
      "Logistic Regression accuracy for not readmitted: 0.798\n",
      "Logistic Regression accuracy for readmitted (Recall): 0.675\n",
      "Logistic Regression trial count: 10\n",
      "\n"
     ]
    }
   ],
   "source": [
    "# multiple calls of SMOTE\n",
    "from imblearn.over_sampling import SMOTE \n",
    "\n",
    "n_trials = 10 # number of trials\n",
    "\n",
    "# Declare empty lists for true-positive and true-negative rates\n",
    "TNR_smote = []\n",
    "TPR_smote = [] \n",
    "\n",
    "# for loop such that variable \"trial\" varies from 0 to n_trials-1 \n",
    " # which means the loop executes n_trials times\n",
    "for trial in range(n_trials):\n",
    "    \n",
    "    # assume that X and Y are already defined, use RandomUnderSampler\n",
    "    sm = SMOTE(random_state = 31*trial) #randomize seed\n",
    "    X_resamp, Y_resamp = sm.fit_sample(X, Y)\n",
    "    print(Counter(Y_resamp)) #print results for Counter for each sample (trial)\n",
    "        \n",
    "    # train/test split\n",
    "    Xtrain, Xtest, Ytrain, Ytest = train_test_split(X_res, Y_res, test_size = .2, \n",
    "                                                    stratify = Y_res)\n",
    "    \n",
    "    # fit hyper-parameter\n",
    "    # create grid, run grid search w/ logistic regression, find best C and its accuracy score\n",
    "    C_grid = {'C': [0.001, 0.01, 0.1, 1, 10, 100]} \n",
    "    clf_grid = GridSearchCV(LogisticRegression(penalty='l2'), C_grid, cv = 5, \n",
    "                            scoring = 'accuracy') \n",
    "    clf_grid.fit(Xtrain, Ytrain) \n",
    "    print(clf_grid.best_params_, clf_grid.best_score_) \n",
    "    \n",
    "    # use that parameter with Logistic regression\n",
    "    # check model accuracy on training data \n",
    "    clf_grid_best = LogisticRegression(C = clf_grid.best_params_['C'], penalty='l2')\n",
    "    clf_grid_best.fit(Xtrain, Ytrain)\n",
    "    x_pred_train = clf_grid_best.predict(Xtrain) #capture predictions for Y based on data in X\n",
    "    accuracy_score(x_pred_train, Ytrain)\n",
    "    \n",
    "    # check model accuracy on test data \n",
    "    clf_grid_best.fit(Xtest, Ytest)\n",
    "    x_pred_test = clf_grid_best.predict(Xtest)\n",
    "    accuracy_score(x_pred_test, Ytest)\n",
    "    \n",
    "    # confusion matrix for logistic model w/ SMOTE\n",
    "    actual = pd.Series(Ytest, name = 'Actual')\n",
    "    predicted_sm = pd.Series(clf_grid_best.predict(Xtest), name = 'Predicted')\n",
    "    ct_sm = pd.crosstab(actual, predicted_sm, margins = True)\n",
    "    print(ct_sm)\n",
    "\n",
    "    # capture given trial's true negative rate, add to array\n",
    "    tnr_smote = ct_sm.iloc[0,0] / ct_sm.iloc[0,2]\n",
    "    TNR_smote.append(tnr_smote)\n",
    "    \n",
    "    # same process for true positive rate\n",
    "    tpr_smote = ct_sm.iloc[1,1] / ct_sm.iloc[1,2]\n",
    "    TPR_smote.append(tpr_smote)\n",
    "    \n",
    "    # print TNR, TPR, and trial no.\n",
    "    print('Logistic Regression accuracy for not readmitted: {}'.format('%0.3f' % tnr_smote))\n",
    "    print('Logistic Regression accuracy for readmitted (Recall): {}'.format('%0.3f' % tpr_smote))\n",
    "    print('Logistic Regression trial count: {}'.format(trial + 1))\n",
    "    print() "
   ]
  },
  {
   "cell_type": "code",
   "execution_count": 54,
   "metadata": {
    "collapsed": false
   },
   "outputs": [
    {
     "data": {
      "image/png": "[encoded data removed]",
      "text/plain": [
       "<matplotlib.figure.Figure at 0x11abbda20>"
      ]
     },
     "metadata": {},
     "output_type": "display_data"
    }
   ],
   "source": [
    "# plot SMOTE TNR and TPR as box plots\n",
    "plots_smote = pd.DataFrame({'TPR': TPR_smote, 'TNR': TNR_smote})\n",
    "\n",
    "sns.boxplot(data = plots_smote) \n",
    "plt.title('Box Plots for TPR and TNR in SMOTE (Logistic Regression)')\n",
    "plt.ylabel('Percent')\n",
    "plt.show()"
   ]
  },
  {
   "cell_type": "code",
   "execution_count": 55,
   "metadata": {
    "collapsed": false
   },
   "outputs": [
    {
     "data": {
      "image/png": "[encoded data removed]",
      "text/plain": [
       "<matplotlib.figure.Figure at 0x1191d8c88>"
      ]
     },
     "metadata": {},
     "output_type": "display_data"
    }
   ],
   "source": [
    "# line plot\n",
    "plots_smote.plot.line()\n",
    "plt.xlabel('Sample Number')\n",
    "plt.ylabel('percentage')\n",
    "plt.title('Positive and Negative Accuracy Rates: Logistic Regression')\n",
    "plt.show()"
   ]
  }
 ],
 "metadata": {
  "kernelspec": {
   "display_name": "Python 3",
   "language": "python",
   "name": "python3"
  },
  "language_info": {
   "codemirror_mode": {
    "name": "ipython",
    "version": 3
   },
   "file_extension": ".py",
   "mimetype": "text/x-python",
   "name": "python",
   "nbconvert_exporter": "python",
   "pygments_lexer": "ipython3",
   "version": "3.6.0"
  }
 },
 "nbformat": 4,
 "nbformat_minor": 2
}
